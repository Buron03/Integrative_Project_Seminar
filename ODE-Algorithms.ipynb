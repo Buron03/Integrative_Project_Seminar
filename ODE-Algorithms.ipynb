{
  "nbformat": 4,
  "nbformat_minor": 0,
  "metadata": {
    "colab": {
      "name": "ODE Algorithms.ipynb",
      "provenance": [],
      "collapsed_sections": [
        "mTeGDA53z9w8"
      ],
      "include_colab_link": true
    },
    "kernelspec": {
      "display_name": "Python 3",
      "name": "python3"
    },
    "language_info": {
      "name": "python"
    }
  },
  "cells": [
    {
      "cell_type": "markdown",
      "metadata": {
        "id": "view-in-github",
        "colab_type": "text"
      },
      "source": [
        "<a href=\"https://colab.research.google.com/github/buronsuave/Integrative_Project_Seminar/blob/master/ODE-Algorithms.ipynb\" target=\"_parent\"><img src=\"https://colab.research.google.com/assets/colab-badge.svg\" alt=\"Open In Colab\"/></a>"
      ]
    },
    {
      "cell_type": "code",
      "metadata": {
        "id": "0b4kMcqzz5h6"
      },
      "source": [
        "from sympy import *\n",
        "from sympy.abc import x\n",
        "from sympy.parsing import parse_expr\n",
        "from sympy.parsing.latex import parse_latex\n",
        "from sympy.solvers.ode import classify_ode"
      ],
      "execution_count": 2,
      "outputs": []
    },
    {
      "cell_type": "markdown",
      "metadata": {
        "id": "mTeGDA53z9w8"
      },
      "source": [
        "## ODE 1st Order Separable (v1)"
      ]
    },
    {
      "cell_type": "code",
      "metadata": {
        "id": "b-Hztbgl0IBa"
      },
      "source": [
        "odeString = \"(ln(x))*Derivative(y(x), x) + ln(y(x)) + y**2 = 0\"\n",
        "odeLeftString = odeString.split(\"=\")[0]\n",
        "odeRightString = odeString.split(\"=\")[1]\n",
        "\n",
        "odeLeftSym = parse_expr(odeLeftString)\n",
        "odeRightSym = parse_expr(odeRightString)\n",
        "\n",
        "y = Function('y')\n",
        "equation = Eq(odeLeftSym - odeRightSym, 0)\n",
        "\n",
        "# FIX: It takes more than a minute for some equations\n",
        "# classify = classify_ode(equation, y(x))\n",
        "\n",
        "# Classify equation (TODO)\n",
        "if True:\n",
        "\n",
        "  # Case 1: f(x)(dy/dx) + g(y) = 0\n",
        "  # Case 2: g(y)(dy/dx) + f(x) = 0\n",
        "\n",
        "  # Check case\n",
        "  case = \"\"\n",
        "  functionF = \"\"\n",
        "  functionG = \"\"\n",
        "\n",
        "  right = equation.args[1]\n",
        "  left = equation.args[0]\n",
        "  for term in left.args:\n",
        "    if \"Derivative\" in str(term) :\n",
        "      # Term is differential\n",
        "      aux = Mul(term, Pow(Derivative(y(x), x), Integer(-1)))\n",
        "      if \"y\" in str(aux):\n",
        "        # It's g(y)\n",
        "        functionG = aux\n",
        "        functionF = Add(left, Mul(term, Integer(-1)))\n",
        "        case = \"2\"\n",
        "      else:\n",
        "        # It's f(x) or 1\n",
        "        if str(Add(aux, Integer(-1))) == '1':\n",
        "          # It's 1\n",
        "          if \"y\" in str(Add(left, Mul(term, Integer(-1)))):\n",
        "            # The diff it's f(x)\n",
        "            functionF = aux\n",
        "            functionG = Add(left, Mul(term, Integer(-1)))\n",
        "            case = \"1\"\n",
        "          else:\n",
        "            # The diff it's g(y)\n",
        "            functionG = aux\n",
        "            functionF = Add(left, Mul(term, Integer(-1)))\n",
        "            case = \"2\"\n",
        "        else:\n",
        "          functionF = aux\n",
        "          functionG = Add(left, Mul(term, Integer(-1)))\n",
        "          case = \"1\"\n",
        "\n",
        "  # Init solve\n",
        "  solve = []\n",
        "\n",
        "  if case == \"1\":\n",
        "    # Do step 1 (classify step)\n",
        "    h1 = latex(\"The equation: \") + \"\\\\\\\\ \\\\\\\\\"\n",
        "    eq1 = \"$\" + latex(equation) + \"$\" + \"\\\\\\\\ \\\\\\\\\"\n",
        "    h2 = latex(\"has the form: \") + \"\\\\\\\\ \\\\\\\\\"\n",
        "    eq2 = \"$f{\\\\left(x \\\\right)} \\\\frac{d}{d x} y{\\\\left(x \\\\right)} + g{\\\\left(y \\\\right)} = 0$\" + \"\\\\\\\\ \\\\\\\\\"\n",
        "    h3 = latex(\"where: \") + \"\\\\\\\\ \\\\\\\\\"\n",
        "    eq3 = \"$g{\\\\left(y \\\\right)} = \" + latex(functionG) + \"$ \\\\\\\\ \\\\\\\\\"\n",
        "    eq4 = \"$f{\\\\left(x \\\\right)} = \" + latex(functionF) + \"$\\\\\\\\ \\\\\\\\\"\n",
        "    h4 = latex(\"So, it's 1st order separable\") + \"\\\\\\\\ \\\\\\\\\"\n",
        "\n",
        "    # Append the step to soluction\n",
        "    step = []\n",
        "    step.append(latex(\"Step 1\") + \"\\\\\\\\ \\\\\\\\\")\n",
        "    subSteps = []\n",
        "    subSteps.append(h1)\n",
        "    subSteps.append(eq1)\n",
        "    subSteps.append(h2)\n",
        "    subSteps.append(eq2)\n",
        "    subSteps.append(h3)\n",
        "    subSteps.append(eq3)\n",
        "    subSteps.append(eq4)\n",
        "    subSteps.append(h4)    \n",
        "    step.append(subSteps)\n",
        "    solve.append(step)\n",
        "\n",
        "    # Do step 2 (separate diff term)\n",
        "    h1 = \"$\" + latex(\"Subtract from both sides of the equation: \") + latex(functionG) + \"$ \\\\\\\\ \\\\\\\\\"\n",
        "    left = Add(left, Mul(functionG, Integer(-1)))\n",
        "    right = Add(right, Mul(functionG, Integer(-1)))\n",
        "    equation = Eq(left, right)\n",
        "    eq1 = \"$\" + latex(equation) +\"$\" + \"\\\\\\\\ \\\\\\\\\"\n",
        "\n",
        "    # Append step to solution\n",
        "    step = []\n",
        "    step.append(latex(\"Step 2\") + \"\\\\\\\\ \\\\\\\\\")\n",
        "    subSteps = []\n",
        "    subSteps.append(h1)\n",
        "    subSteps.append(eq1)\n",
        "    step.append(subSteps)\n",
        "    solve.append(step)\n",
        "\n",
        "    # Do step 3 (separate differentials)\n",
        "    h1 = latex(\"Multiply both sides by the differential of x $(dx)$\")\n",
        "    left = Mul(left, Pow(Derivative(y(x), x), Integer(-1)))\n",
        "    left = Mul(left, Symbol('dy'))\n",
        "    right = Mul(right, Symbol('dx'))\n",
        "    equation = Eq(left, right)\n",
        "    eq1 = \"$\" + latex(equation) + \"$\" + \"\\\\\\\\ \\\\\\\\\"\n",
        "\n",
        "    # Append step to solution\n",
        "    step = []\n",
        "    step.append(latex(\"Step 3\") + \"\\\\\\\\ \\\\\\\\\")\n",
        "    subSteps = []\n",
        "    subSteps.append(h1)\n",
        "    subSteps.append(eq1)\n",
        "    step.append(subSteps)\n",
        "    solve.append(step)\n",
        "\n",
        "    # Do step 4 (separate functions)\n",
        "    h1 = latex(\"Divide both sides by \") + \"$\" + latex(Mul(functionF, functionG)) + \"$\" + latex(\" It is obtained to the separated equation in x and y\") + \"\\\\\\\\ \\\\\\\\\"\n",
        "    left = Mul(left, Pow(Mul(functionF, functionG), Integer(-1)))\n",
        "    right = Mul(right, Pow(Mul(functionF, functionG), Integer(-1)))\n",
        "    equation = Eq(left, right)\n",
        "    eq1 = \"$\" + latex(equation) + \"$\" + \"\\\\\\\\ \\\\\\\\\"\n",
        "\n",
        "    # Append step to solution\n",
        "    step = []\n",
        "    step.append(latex(\"Step 4\") + \"\\\\\\\\ \\\\\\\\\")\n",
        "    subSteps = []\n",
        "    subSteps.append(h1)\n",
        "    subSteps.append(eq1)\n",
        "    step.append(subSteps)\n",
        "    solve.append(step)  \n",
        "\n",
        "    # Do step 5 (solve left integral)\n",
        "    h1 = latex(\"Solve the left integral:\") + \"\\\\\\\\ \\\\\\\\\"\n",
        "    left = Mul(left, Pow(Symbol('dy'), Integer(-1)))\n",
        "    left = left.subs(y(x), Symbol('y'))\n",
        "    exp1 = \"$\\int{\" +  latex(left) +\"} dy$\"\n",
        "    left = integrate(left, Symbol('y'))\n",
        "    eq1 = exp1 + \" = $\" + latex(left) + \"$ \\\\\\\\ \\\\\\\\\"\n",
        "\n",
        "    # Append step to solution\n",
        "    step = []\n",
        "    step.append(latex(\"Step 5\") + \"\\\\\\\\ \\\\\\\\\")\n",
        "    subSteps = []\n",
        "    subSteps.append(h1)\n",
        "    subSteps.append(exp1 + \"\\\\\\\\ \\\\\\\\\")\n",
        "    subSteps.append(eq1)\n",
        "    step.append(subSteps)\n",
        "    solve.append(step)\n",
        "\n",
        "    # Do step 6 (solve right integral)\n",
        "    h1 = latex(\"Solve the right integral:\") + \"\\\\\\\\ \\\\\\\\\"\n",
        "    right = Mul(right, Pow(Symbol('dx'), Integer(-1)))\n",
        "    exp1 = \"$\\int{\" +  latex(right) +\"} dx$\"\n",
        "    right = integrate(right, x)\n",
        "    eq1 = exp1 + \" = $\" + latex(right) + \"$ \\\\\\\\ \\\\\\\\\"\n",
        "\n",
        "    # Append step to solution\n",
        "    step = []\n",
        "    step.append(latex(\"Step 6\") + \"\\\\\\\\ \\\\\\\\\")\n",
        "    subSteps = []\n",
        "    subSteps.append(h1)\n",
        "    subSteps.append(exp1 + \"\\\\\\\\ \\\\\\\\\")\n",
        "    subSteps.append(eq1)\n",
        "    step.append(subSteps)\n",
        "    solve.append(step)\n",
        "\n",
        "  elif case == \"2\":\n",
        "    # Do step 1 (classify step)\n",
        "    h1 = latex(\"The equation: \") + \"\\\\\\\\ \\\\\\\\\"\n",
        "    eq1 = \"$\" + latex(equation) + \"$\" + \"\\\\\\\\ \\\\\\\\\"\n",
        "    h2 = latex(\"has the form: \") + \"\\\\\\\\ \\\\\\\\\"\n",
        "    eq2 = \"$g{\\\\left(y \\\\right)} \\\\frac{d}{d x} y{\\\\left(x \\\\right)} + f{\\\\left(x \\\\right)} = 0$\" + \"\\\\\\\\ \\\\\\\\\"\n",
        "    h3 = latex(\"where: \") + \"\\\\\\\\ \\\\\\\\\"\n",
        "    eq3 = \"$g{\\\\left(y \\\\right)} = \" + latex(functionG) + \"$ \\\\\\\\ \\\\\\\\\"\n",
        "    eq4 = \"$f{\\\\left(x \\\\right)} = \" + latex(functionF) + \"$ \\\\\\\\ \\\\\\\\\"\n",
        "    h4 = latex(\"So, it's 1st order separable\") + \"\\\\\\\\ \\\\\\\\\"\n",
        "    \n",
        "    # Append the step to soluction\n",
        "    step = []\n",
        "    step.append(latex(\"Step 1\") + \"\\\\\\\\ \\\\\\\\\")\n",
        "    subSteps = []\n",
        "    subSteps.append(h1)\n",
        "    subSteps.append(eq1)\n",
        "    subSteps.append(h2)\n",
        "    subSteps.append(eq2)\n",
        "    subSteps.append(h3)\n",
        "    subSteps.append(eq3)\n",
        "    subSteps.append(eq4)\n",
        "    subSteps.append(h4)    \n",
        "    step.append(subSteps)\n",
        "    solve.append(step)\n",
        "\n",
        "    # Do step 2 (separate diff term)\n",
        "    h1 = \"$\" + latex(\"Subtract from both sides of the equation: \") + latex(functionF) + \"$ \\\\\\\\ \\\\\\\\\"\n",
        "    left = Add(left, Mul(functionF, Integer(-1)))\n",
        "    right = Add(right, Mul(functionF, Integer(-1)))\n",
        "    equation = Eq(left, right)\n",
        "    eq1 = \"$\" + latex(equation) +\"$\" + \"\\\\\\\\ \\\\\\\\\"\n",
        "\n",
        "    # Append step to solution\n",
        "    step = []\n",
        "    step.append(latex(\"Step 2\") + \"\\\\\\\\ \\\\\\\\\")\n",
        "    subSteps = []\n",
        "    subSteps.append(h1)\n",
        "    subSteps.append(eq1)\n",
        "    step.append(subSteps)\n",
        "    solve.append(step)\n",
        "\n",
        "    # Do step 3 (separate differentials)\n",
        "    h1 = latex(\"Multiply by both sides by the differential of x $(dx)$. It is obtained to the separated equation in x and y\") + \"\\\\\\\\ \\\\\\\\\"\n",
        "    left = Mul(left, Pow(Derivative(y(x), x), Integer(-1)))\n",
        "    left = Mul(left, Symbol('dy'))\n",
        "    right = Mul(right, Symbol('dx'))\n",
        "    equation = Eq(left, right)\n",
        "    eq1 = \"$\" + latex(equation) + \"$\" + \"\\\\\\\\ \\\\\\\\\"\n",
        "    \n",
        "    # Append step to solution\n",
        "    step = []\n",
        "    step.append(latex(\"Step 3\") + \"\\\\\\\\ \\\\\\\\\")\n",
        "    subSteps = []\n",
        "    subSteps.append(h1)\n",
        "    subSteps.append(eq1)\n",
        "    step.append(subSteps)\n",
        "    solve.append(step)\n",
        "\n",
        "    # Do step 4 (solve left integral)\n",
        "    h1 = latex(\"Solve the left integral:\") + \"\\\\\\\\ \\\\\\\\\"\n",
        "    left = Mul(left, Pow(Symbol('dy'), Integer(-1)))\n",
        "    left = left.subs(y(x), Symbol('y'))\n",
        "    exp1 = \"$\\int{\" +  latex(left) +\"} dy$\"\n",
        "    left = integrate(left, y(x))\n",
        "    eq1 = exp1 + \" = $\" + latex(left) + \"$ \\\\\\\\ \\\\\\\\\"\n",
        "\n",
        "    # Append step to solution\n",
        "    step = []\n",
        "    step.append(latex(\"Step 4\") + \"\\\\\\\\ \\\\\\\\\")\n",
        "    subSteps = []\n",
        "    subSteps.append(h1)\n",
        "    subSteps.append(exp1 + \"\\\\\\\\ \\\\\\\\\")\n",
        "    subSteps.append(eq1)\n",
        "    step.append(subSteps)\n",
        "    solve.append(step)\n",
        "\n",
        "    # Do step 5 (solve right integral)\n",
        "    h1 = latex(\"Solve the right integral:\") + \"\\\\\\\\ \\\\\\\\\"\n",
        "    right = Mul(right, Pow(Symbol('dx'), Integer(-1)))\n",
        "    exp1 = \"$\\int{\" +  latex(right) +\"} dx$\"\n",
        "    right = integrate(right, x)\n",
        "    eq1 = exp1 + \" = $\" + latex(right) + \"$ \\\\\\\\ \\\\\\\\\"\n",
        "\n",
        "    # Append step to solution\n",
        "    step = []\n",
        "    step.append(latex(\"Step 5\") + \"\\\\\\\\ \\\\\\\\\")\n",
        "    subSteps = []\n",
        "    subSteps.append(h1)\n",
        "    subSteps.append(exp1 + \"\\\\\\\\ \\\\\\\\\")\n",
        "    subSteps.append(eq1)\n",
        "    step.append(subSteps)\n",
        "    solve.append(step)\n",
        "\n",
        "  def display_step(step):\n",
        "    stepStr = \"\"\n",
        "    for subStep in step:\n",
        "      stepStr += str(subStep)\n",
        "      display(subStep)\n",
        "    return stepStr\n",
        "\n",
        "  def display_solve(solve):\n",
        "    solveStr = \"\"\n",
        "    for step in solve:\n",
        "      display(step[0])\n",
        "      solveStr += step[0]\n",
        "      print()\n",
        "      solveStr += display_step(step[1])\n",
        "      print()\n",
        "    return solveStr\n",
        "  \n",
        "  solveStr = display_solve(solve)\n",
        "  display(solveStr)\n"
      ],
      "execution_count": null,
      "outputs": []
    },
    {
      "cell_type": "markdown",
      "metadata": {
        "id": "P7nq-MiYCVYC"
      },
      "source": [
        "## ODE 1st Order Separable (v2)"
      ]
    },
    {
      "cell_type": "code",
      "metadata": {
        "id": "_OaBXrSZbWNE",
        "colab": {
          "base_uri": "https://localhost:8080/",
          "height": 209
        },
        "outputId": "813ceeba-f764-461b-c01a-8dbb7b689a37"
      },
      "source": [
        "odeString = \"Derivative(y(x), x) = x*(E**(x**2 - ln((y(x))**2)))\"\n",
        "odeLeftString = odeString.split(\"=\")[0]\n",
        "odeRightString = odeString.split(\"=\")[1]\n",
        "\n",
        "odeLeftSym = parse_expr(odeLeftString)\n",
        "odeRightSym = parse_expr(odeRightString)\n",
        "\n",
        "y = Function('y')\n",
        "equation = Eq(odeLeftSym - odeRightSym, 0)\n",
        "\n",
        "left = equation.args[0]\n",
        "express = solve(left, Derivative(y(x), x))\n",
        "aux = expand(express[0])\n",
        "\n",
        "#Step 1\n",
        "\n",
        "functionF = parse_expr(\"1\")\n",
        "functionG = parse_expr(\"1\")\n",
        "\n",
        "for term in express[0].args:\n",
        "  if 'y' in str(term):\n",
        "    if ((type(term) is exp) or (type(term) is Pow)):\n",
        "      term = expand(term)\n",
        "      if type(term) is Mul:\n",
        "        for subTerm in term.args:\n",
        "          if 'y' in str(subTerm):\n",
        "            functionG = Mul(functionG, subTerm)\n",
        "          else:\n",
        "            functionF = Mul(functionF, subTerm)  \n",
        "      else:\n",
        "        functionG = Mul(functionG, term)          \n",
        "    else:  \n",
        "      functionG = Mul(functionG, term)\n",
        "  else:\n",
        "    functionF = Mul(functionF, term)\n",
        "\n",
        "functionG = Pow(functionG, Integer(-1))\n",
        "\n",
        "expr = Mul(functionF, Pow(functionG, Integer(-1)))\n",
        "\n",
        "# display(functionF)\n",
        "# print()\n",
        "# display(functionG)\n",
        "# print()\n",
        "# display(expr)\n",
        "\n",
        "#TODO: Create step 1\n",
        "\n",
        "# Step 2: Separate\n",
        "functionG = functionG.subs(y(x), Symbol('y'))\n",
        "left = Mul(functionG, Symbol('dy'))\n",
        "right = Mul(functionF, Symbol('dx'))\n",
        "\n",
        "# TODO: Create step 2\n",
        "\n",
        "# Step 3: Integrate left side\n",
        "left = Mul(left, Pow(Symbol('dy'), Integer(-1)))\n",
        "left = expand(left)\n",
        "left = integrate(left, Symbol('y'))\n",
        "\n",
        "# display(left)\n",
        "\n",
        "# TODO: Create step 3\n",
        "\n",
        "# Step 4: Integrate right side\n",
        "right = Mul(right, Pow(Symbol('dx'), Integer(-1)))\n",
        "right = expand(right)\n",
        "right = integrate(right, x)\n",
        "\n",
        "# TODO: Create step 4\n",
        "\n",
        "express = Add(left, Mul(right, Integer(-1)), Symbol('C'))\n",
        "# display(express)\n",
        "\n",
        "finalSolve = solve(express, Symbol('y'))\n",
        "for singleSolve in finalSolve:\n",
        "  display(singleSolve)\n",
        "  print()\n"
      ],
      "execution_count": 3,
      "outputs": [
        {
          "output_type": "display_data",
          "data": {
            "text/latex": "$\\displaystyle \\sqrt[3]{- 3 C + \\frac{3 e^{x^{2}}}{2}}$",
            "text/plain": [
              "(-3*C + 3*exp(x**2)/2)**(1/3)"
            ]
          },
          "metadata": {
            "tags": []
          }
        },
        {
          "output_type": "stream",
          "text": [
            "\n"
          ],
          "name": "stdout"
        },
        {
          "output_type": "display_data",
          "data": {
            "text/latex": "$\\displaystyle - \\frac{\\sqrt[3]{- 3 C + \\frac{3 e^{x^{2}}}{2}}}{2} - \\frac{\\sqrt{3} i \\sqrt[3]{- 3 C + \\frac{3 e^{x^{2}}}{2}}}{2}$",
            "text/plain": [
              "-(-3*C + 3*exp(x**2)/2)**(1/3)/2 - sqrt(3)*I*(-3*C + 3*exp(x**2)/2)**(1/3)/2"
            ]
          },
          "metadata": {
            "tags": []
          }
        },
        {
          "output_type": "stream",
          "text": [
            "\n"
          ],
          "name": "stdout"
        },
        {
          "output_type": "display_data",
          "data": {
            "text/latex": "$\\displaystyle - \\frac{\\sqrt[3]{- 3 C + \\frac{3 e^{x^{2}}}{2}}}{2} + \\frac{\\sqrt{3} i \\sqrt[3]{- 3 C + \\frac{3 e^{x^{2}}}{2}}}{2}$",
            "text/plain": [
              "-(-3*C + 3*exp(x**2)/2)**(1/3)/2 + sqrt(3)*I*(-3*C + 3*exp(x**2)/2)**(1/3)/2"
            ]
          },
          "metadata": {
            "tags": []
          }
        },
        {
          "output_type": "stream",
          "text": [
            "\n"
          ],
          "name": "stdout"
        }
      ]
    },
    {
      "cell_type": "markdown",
      "metadata": {
        "id": "32GoPg7DCg35"
      },
      "source": [
        "## ODE 1st Order Linear"
      ]
    },
    {
      "cell_type": "code",
      "metadata": {
        "colab": {
          "base_uri": "https://localhost:8080/",
          "height": 58
        },
        "id": "FWph4Z6hBGxd",
        "outputId": "76400e41-3af0-40d2-db09-0da63e427b86"
      },
      "source": [
        "odeString = \"x*Derivative(y(x), x) - 2*y(x) - (x**5)*sin(2*x) + x**3 - 4*x**4 = 0\"\n",
        "odeLeftString = odeString.split(\"=\")[0]\n",
        "odeRightString = odeString.split(\"=\")[1]\n",
        "\n",
        "odeLeftSym = parse_expr(odeLeftString)\n",
        "odeRightSym = parse_expr(odeRightString)\n",
        "\n",
        "y = Function('y')\n",
        "equation = Eq(odeLeftSym - odeRightSym, 0)\n",
        "\n",
        "# Step 1\n",
        "left = equation.args[0]\n",
        "exp = solve(left, Derivative(y(x), x))\n",
        "aux = expand(exp[0])\n",
        "\n",
        "left = Derivative(y(x), x)\n",
        "\n",
        "functionF = parse_expr(\"0\")\n",
        "functionG = parse_expr(\"0\")\n",
        "\n",
        "for term in aux.args:\n",
        "  if \"y\" in str(term):\n",
        "    functionF = Add(functionF, Mul(term, Pow(y(x), Integer(-1))))\n",
        "  else:\n",
        "    functionG = Add(functionG, term)\n",
        "\n",
        "functionF = Mul(functionF, Integer(-1))\n",
        "functionF = simplify(functionF)\n",
        "functionG = simplify(functionG)\n",
        "\n",
        "right = Add(functionG, Mul(Integer(-1), functionF, y(x)))\n",
        "\n",
        "# display(functionF)\n",
        "# display(functionG)\n",
        "\n",
        "# TODO: Create step 1\n",
        "\n",
        "# Step 2\n",
        "## Write theory\n",
        "functionM = Pow(E, Integral(functionF, x))\n",
        "functionF = expand(functionF)\n",
        "exponentM = integrate(functionF, x)\n",
        "functionM = functionM.replace(Integral(functionF, x), exponentM)\n",
        "functionM = simplify(functionM)\n",
        "\n",
        "# display(functionF)\n",
        "# display(functionG)\n",
        "# display(functionM)\n",
        "\n",
        "# display(functionM)\n",
        "\n",
        "# TODO Step 3\n",
        "\n",
        "# Step 3\n",
        "equation = Eq(left, right)\n",
        "left = Mul(left, functionM)\n",
        "# right = Mul(right, functionM)\n",
        "right = Add(Mul(Integer(-1), functionF, y(x), functionM), Mul(functionG, functionM))\n",
        "equation = Eq(left, right)\n",
        "# display(equation)\n",
        "left = Add(left, Mul(functionF, y(x), functionM))\n",
        "right = Add(right, Mul(functionF, y(x), functionM))\n",
        "equation = Eq(left, right)\n",
        "# display(equation)\n",
        "left = Derivative(Mul(functionM, y(x)), x)\n",
        "equation = Eq(left, right)\n",
        "# display(equation)\n",
        "left = Mul(left, Pow(Derivative(Mul(functionM, y(x)), x), Integer(-1)), Symbol('d'), Mul(y(x), functionM))\n",
        "right = Mul(right, Symbol('dx'))\n",
        "equation = Eq(left, right)\n",
        "# display(equation)\n",
        "left = Mul(y(x), functionM)\n",
        "right = Mul(right, Pow(Symbol('dx'), Integer(-1)))\n",
        "right = expand(right)\n",
        "# display(right)\n",
        "right = integrate(right, x)\n",
        "right = Add(right, Symbol('C'))\n",
        "equation = Eq(left, right)\n",
        "# display(equation)\n",
        "left = y(x)\n",
        "right = Mul(right, Pow(functionM, Integer(-1)))\n",
        "right = simplify(right)\n",
        "equation = Eq(left, right)\n",
        "display(equation)\n",
        "\n",
        "\n"
      ],
      "execution_count": 4,
      "outputs": [
        {
          "output_type": "display_data",
          "data": {
            "text/latex": "$\\displaystyle y{\\left(x \\right)} = x^{2} \\left(C - \\frac{x^{2} \\cos{\\left(2 x \\right)}}{2} + 2 x^{2} + \\frac{x \\sin{\\left(2 x \\right)}}{2} - x + \\frac{\\cos{\\left(2 x \\right)}}{4}\\right)$",
            "text/plain": [
              "Eq(y(x), x**2*(C - x**2*cos(2*x)/2 + 2*x**2 + x*sin(2*x)/2 - x + cos(2*x)/4))"
            ]
          },
          "metadata": {
            "tags": []
          }
        }
      ]
    },
    {
      "cell_type": "markdown",
      "metadata": {
        "id": "2ltFpP2wAY9f"
      },
      "source": [
        "## ODE 1st Order Reducible to Linear"
      ]
    },
    {
      "cell_type": "code",
      "metadata": {
        "colab": {
          "base_uri": "https://localhost:8080/",
          "height": 235
        },
        "id": "JLz4WQoqAx7v",
        "outputId": "2dbead62-9860-490e-e836-64bfa614622f"
      },
      "source": [
        "odeString = \"Derivative(y(x), x) + (2/x)*(y(x)) = ((y(x))**3)/(x**3) + y(x)\"\n",
        "odeLeftString = odeString.split(\"=\")[0]\n",
        "odeRightString = odeString.split(\"=\")[1]\n",
        "\n",
        "odeLeftSym = parse_expr(odeLeftString)\n",
        "odeRightSym = parse_expr(odeRightString)\n",
        "\n",
        "y = Function('y')\n",
        "equation = Eq(odeLeftSym - odeRightSym, 0)\n",
        "\n",
        "# Step 1\n",
        "left = equation.args[0]\n",
        "exp = solve(left, Derivative(y(x), x))\n",
        "aux = expand(exp[0])\n",
        "\n",
        "left = Derivative(y(x), x)\n",
        "\n",
        "functionF = parse_expr(\"0\")\n",
        "functionG = parse_expr(\"0\")\n",
        "\n",
        "n = Integer(0)\n",
        "\n",
        "aux = Mul(aux, Pow(y(x), Integer(-1)))\n",
        "aux = simplify(aux)\n",
        "display(aux)\n",
        "print()\n",
        "\n",
        "for term in aux.args:\n",
        "  if 'y' in str(term):\n",
        "    for subTerm in term.args:\n",
        "      if 'y' in str(subTerm):\n",
        "        n = Add(subTerm.args[1], Integer(1))\n",
        "        subG = Mul(term, Pow(subTerm, Integer(-1)))\n",
        "        functionG = Add(functionG, subG)\n",
        "  else:\n",
        "    functionF = Add(functionF, term)\n",
        "\n",
        "# display(functionF)\n",
        "# print()\n",
        "# display(functionG)\n",
        "# print()\n",
        "display(n)\n",
        "\n",
        "functionF2 = Mul(functionF, Integer(Add(Integer(1), Mul(Integer(-1), n))))\n",
        "functionG2 = Mul(functionG, Integer(Add(Integer(1), Mul(Integer(-1), n))))\n",
        "display(functionF2)\n",
        "print()\n",
        "display(functionG2)\n",
        "print()\n",
        "\n",
        "u = Function('u')\n",
        "equation = Eq(Add(Derivative(u(x), x), Mul(functionF2, u(x))), functionG2)\n",
        "equation = equation.subs(u(x), y(x))\n",
        "display(equation)\n"
      ],
      "execution_count": 22,
      "outputs": [
        {
          "output_type": "display_data",
          "data": {
            "text/latex": "$\\displaystyle 1 - \\frac{2}{x} + \\frac{y^{2}{\\left(x \\right)}}{x^{3}}$",
            "text/plain": [
              "1 - 2/x + y(x)**2/x**3"
            ]
          },
          "metadata": {
            "tags": []
          }
        },
        {
          "output_type": "stream",
          "text": [
            "\n"
          ],
          "name": "stdout"
        },
        {
          "output_type": "display_data",
          "data": {
            "text/latex": "$\\displaystyle 3$",
            "text/plain": [
              "3"
            ]
          },
          "metadata": {
            "tags": []
          }
        },
        {
          "output_type": "display_data",
          "data": {
            "text/latex": "$\\displaystyle -2 + \\frac{4}{x}$",
            "text/plain": [
              "-2 + 4/x"
            ]
          },
          "metadata": {
            "tags": []
          }
        },
        {
          "output_type": "stream",
          "text": [
            "\n"
          ],
          "name": "stdout"
        },
        {
          "output_type": "display_data",
          "data": {
            "text/latex": "$\\displaystyle - \\frac{2}{x^{3}}$",
            "text/plain": [
              "-2/x**3"
            ]
          },
          "metadata": {
            "tags": []
          }
        },
        {
          "output_type": "stream",
          "text": [
            "\n"
          ],
          "name": "stdout"
        },
        {
          "output_type": "display_data",
          "data": {
            "text/latex": "$\\displaystyle \\left(-2 + \\frac{4}{x}\\right) y{\\left(x \\right)} + \\frac{d}{d x} y{\\left(x \\right)} = - \\frac{2}{x^{3}}$",
            "text/plain": [
              "Eq((-2 + 4/x)*y(x) + Derivative(y(x), x), -2/x**3)"
            ]
          },
          "metadata": {
            "tags": []
          }
        }
      ]
    },
    {
      "cell_type": "markdown",
      "metadata": {
        "id": "sFaAcjlkTBGj"
      },
      "source": [
        "## ODE 1st Order Homogeneous"
      ]
    },
    {
      "cell_type": "code",
      "metadata": {
        "colab": {
          "base_uri": "https://localhost:8080/",
          "height": 130
        },
        "id": "Lp3IeSeaTNWj",
        "outputId": "ed166633-9ca8-4bda-b4b9-a577c2f66e6a"
      },
      "source": [
        "odeString = \"x**2 + y(x)**2 + x*y(x)*Derivative(y(x), x) = 0\"\n",
        "odeLeftString = odeString.split(\"=\")[0]\n",
        "odeRightString = odeString.split(\"=\")[1]\n",
        "\n",
        "odeLeftSym = parse_expr(odeLeftString)\n",
        "odeRightSym = parse_expr(odeRightString)\n",
        "\n",
        "y = Function('y')\n",
        "equation = Eq(odeLeftSym - odeRightSym, 0)\n",
        "\n",
        "# Step 1\n",
        "left = equation.args[0]\n",
        "exp = solve(left, Derivative(y(x), x))\n",
        "aux = expand(exp[0])\n",
        "\n",
        "left = Derivative(y(x), x)\n",
        "# Define the change of variable\n",
        "functionF = aux\n",
        "\n",
        "# display(functionF)\n",
        "\n",
        "# Step 2\n",
        "u = Function('u')\n",
        "functionF = functionF.subs(y(x), Mul(u(x), x))\n",
        "left = Add(Mul(Derivative(u(x), x), x), u(x))\n",
        "display(left)\n",
        "display(functionF)\n",
        "left = Add(left, Mul(functionF, Integer(-1)))\n",
        "display(left)\n",
        "\n",
        "# This left is separable with u(x) and x\n",
        "# solveU = solve(left, Derivative(u(x), x))\n",
        "# display(solveU[0])"
      ],
      "execution_count": 31,
      "outputs": [
        {
          "output_type": "display_data",
          "data": {
            "text/latex": "$\\displaystyle x \\frac{d}{d x} u{\\left(x \\right)} + u{\\left(x \\right)}$",
            "text/plain": [
              "x*Derivative(u(x), x) + u(x)"
            ]
          },
          "metadata": {
            "tags": []
          }
        },
        {
          "output_type": "display_data",
          "data": {
            "text/latex": "$\\displaystyle - u{\\left(x \\right)} - \\frac{1}{u{\\left(x \\right)}}$",
            "text/plain": [
              "-u(x) - 1/u(x)"
            ]
          },
          "metadata": {
            "tags": []
          }
        },
        {
          "output_type": "display_data",
          "data": {
            "text/latex": "$\\displaystyle x \\frac{d}{d x} u{\\left(x \\right)} + 2 u{\\left(x \\right)} + \\frac{1}{u{\\left(x \\right)}}$",
            "text/plain": [
              "x*Derivative(u(x), x) + 2*u(x) + 1/u(x)"
            ]
          },
          "metadata": {
            "tags": []
          }
        }
      ]
    },
    {
      "cell_type": "markdown",
      "metadata": {
        "id": "eBwVeuzLWCoZ"
      },
      "source": [
        "## ODE 1st Order Exact"
      ]
    }
  ]
}